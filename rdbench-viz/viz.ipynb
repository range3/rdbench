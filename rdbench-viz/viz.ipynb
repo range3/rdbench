{
 "cells": [
  {
   "cell_type": "code",
   "execution_count": null,
   "metadata": {},
   "outputs": [],
   "source": [
    "from pathlib import Path\n",
    "import re\n",
    "import struct\n",
    "import math\n",
    "from pprint import pprint\n",
    "# import pandas as pd\n",
    "import matplotlib.pyplot as plt\n",
    "from matplotlib import animation, rc\n",
    "rc('animation', html='jshtml')\n",
    "import numpy as np\n",
    "from IPython.display import HTML\n"
   ]
  },
  {
   "cell_type": "code",
   "execution_count": null,
   "metadata": {},
   "outputs": [],
   "source": [
    "DAT_BASEDIR = Path('../build-RelWithDebInfo/out')\n",
    "\n",
    "input_files = sorted(list(DAT_BASEDIR.glob('*.bin')))\n",
    "\n",
    "\n",
    "def read_dat(file: Path):\n",
    "    ar = np.array(struct.unpack(f'{file.stat().st_size//8}d', file.read_bytes()))\n",
    "    return ar.reshape((int(math.sqrt(ar.shape[0])), -1))\n",
    "\n",
    "images = list(map(read_dat, input_files))\n"
   ]
  },
  {
   "cell_type": "code",
   "execution_count": null,
   "metadata": {},
   "outputs": [],
   "source": [
    "def update(i, ax, images):\n",
    "    if i != 0:\n",
    "        plt.cla()\n",
    "    heatmap = ax.pcolor(images[i], cmap=plt.cm.Blues)\n",
    "    ax.set_title(f'frame {i}')\n",
    "    ax.invert_yaxis()\n",
    "    plt.autoscale(enable=True, axis='both')\n",
    "\n",
    "plt.ioff()\n",
    "fig, ax = plt.subplots(figsize=(8, 8))\n",
    "fig.patch.set_alpha(1)\n",
    "fig.tight_layout()\n",
    "ax.invert_yaxis()\n",
    "anim = animation.FuncAnimation(fig, update, fargs = (ax, images), interval = 100, frames = len(images))\n",
    "# ani.save(\"test.gif\", writer = 'imagemagick')\n",
    "anim.save(\"viz.gif\")\n",
    "anim\n"
   ]
  }
 ],
 "metadata": {
  "kernelspec": {
   "display_name": "Python 3.8.10 64-bit",
   "language": "python",
   "name": "python3"
  },
  "language_info": {
   "codemirror_mode": {
    "name": "ipython",
    "version": 3
   },
   "file_extension": ".py",
   "mimetype": "text/x-python",
   "name": "python",
   "nbconvert_exporter": "python",
   "pygments_lexer": "ipython3",
   "version": "3.9.2"
  },
  "orig_nbformat": 4,
  "vscode": {
   "interpreter": {
    "hash": "31f2aee4e71d21fbe5cf8b01ff0e069b9275f58929596ceb00d14d90e3e16cd6"
   }
  }
 },
 "nbformat": 4,
 "nbformat_minor": 2
}
